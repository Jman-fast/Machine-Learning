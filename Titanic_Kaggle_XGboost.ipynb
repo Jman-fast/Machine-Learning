{
  "nbformat": 4,
  "nbformat_minor": 0,
  "metadata": {
    "colab": {
      "provenance": []
    },
    "kernelspec": {
      "name": "python3",
      "display_name": "Python 3"
    },
    "language_info": {
      "name": "python"
    }
  },
  "cells": [
    {
      "cell_type": "code",
      "execution_count": 1,
      "metadata": {
        "id": "aKDC_WpKIA03"
      },
      "outputs": [],
      "source": [
        "import numpy as np\n",
        "import pandas as pd"
      ]
    },
    {
      "cell_type": "code",
      "source": [
        "from sklearn.model_selection import train_test_split\n",
        "from sklearn.metrics import classification_report\n",
        "from sklearn.tree import DecisionTreeClassifier"
      ],
      "metadata": {
        "id": "A3SHdwQNIMLV"
      },
      "execution_count": 2,
      "outputs": []
    },
    {
      "cell_type": "code",
      "source": [
        "import xgboost as xgb"
      ],
      "metadata": {
        "id": "Yb7P4qZ_IXyL"
      },
      "execution_count": 3,
      "outputs": []
    },
    {
      "cell_type": "code",
      "source": [
        "df = pd.read_csv('train.csv')"
      ],
      "metadata": {
        "id": "vcXKsFgDIhkj"
      },
      "execution_count": 4,
      "outputs": []
    },
    {
      "cell_type": "code",
      "source": [
        "print(df.head)"
      ],
      "metadata": {
        "colab": {
          "base_uri": "https://localhost:8080/"
        },
        "id": "eQXEuFyXIwgc",
        "outputId": "7cabe2ab-a640-4667-a81f-fb421ca7028c"
      },
      "execution_count": 5,
      "outputs": [
        {
          "output_type": "stream",
          "name": "stdout",
          "text": [
            "<bound method NDFrame.head of      PassengerId  Survived  Pclass  \\\n",
            "0              1         0       3   \n",
            "1              2         1       1   \n",
            "2              3         1       3   \n",
            "3              4         1       1   \n",
            "4              5         0       3   \n",
            "..           ...       ...     ...   \n",
            "886          887         0       2   \n",
            "887          888         1       1   \n",
            "888          889         0       3   \n",
            "889          890         1       1   \n",
            "890          891         0       3   \n",
            "\n",
            "                                                  Name     Sex   Age  SibSp  \\\n",
            "0                              Braund, Mr. Owen Harris    male  22.0      1   \n",
            "1    Cumings, Mrs. John Bradley (Florence Briggs Th...  female  38.0      1   \n",
            "2                               Heikkinen, Miss. Laina  female  26.0      0   \n",
            "3         Futrelle, Mrs. Jacques Heath (Lily May Peel)  female  35.0      1   \n",
            "4                             Allen, Mr. William Henry    male  35.0      0   \n",
            "..                                                 ...     ...   ...    ...   \n",
            "886                              Montvila, Rev. Juozas    male  27.0      0   \n",
            "887                       Graham, Miss. Margaret Edith  female  19.0      0   \n",
            "888           Johnston, Miss. Catherine Helen \"Carrie\"  female   NaN      1   \n",
            "889                              Behr, Mr. Karl Howell    male  26.0      0   \n",
            "890                                Dooley, Mr. Patrick    male  32.0      0   \n",
            "\n",
            "     Parch            Ticket     Fare Cabin Embarked  \n",
            "0        0         A/5 21171   7.2500   NaN        S  \n",
            "1        0          PC 17599  71.2833   C85        C  \n",
            "2        0  STON/O2. 3101282   7.9250   NaN        S  \n",
            "3        0            113803  53.1000  C123        S  \n",
            "4        0            373450   8.0500   NaN        S  \n",
            "..     ...               ...      ...   ...      ...  \n",
            "886      0            211536  13.0000   NaN        S  \n",
            "887      0            112053  30.0000   B42        S  \n",
            "888      2        W./C. 6607  23.4500   NaN        S  \n",
            "889      0            111369  30.0000  C148        C  \n",
            "890      0            370376   7.7500   NaN        Q  \n",
            "\n",
            "[891 rows x 12 columns]>\n"
          ]
        }
      ]
    },
    {
      "cell_type": "code",
      "source": [
        "df_encoded = pd.get_dummies(df, columns=['Pclass','Sex', 'SibSp', 'Parch', 'Embarked'], drop_first=False)"
      ],
      "metadata": {
        "id": "pkbyho2kI2iN"
      },
      "execution_count": 6,
      "outputs": []
    },
    {
      "cell_type": "code",
      "source": [
        "print(df_encoded.head)"
      ],
      "metadata": {
        "colab": {
          "base_uri": "https://localhost:8080/"
        },
        "id": "Qu87DP5IJBCJ",
        "outputId": "5e42453d-6442-4a94-cb4c-d92148fcc10d"
      },
      "execution_count": 7,
      "outputs": [
        {
          "output_type": "stream",
          "name": "stdout",
          "text": [
            "<bound method NDFrame.head of      PassengerId  Survived                                               Name  \\\n",
            "0              1         0                            Braund, Mr. Owen Harris   \n",
            "1              2         1  Cumings, Mrs. John Bradley (Florence Briggs Th...   \n",
            "2              3         1                             Heikkinen, Miss. Laina   \n",
            "3              4         1       Futrelle, Mrs. Jacques Heath (Lily May Peel)   \n",
            "4              5         0                           Allen, Mr. William Henry   \n",
            "..           ...       ...                                                ...   \n",
            "886          887         0                              Montvila, Rev. Juozas   \n",
            "887          888         1                       Graham, Miss. Margaret Edith   \n",
            "888          889         0           Johnston, Miss. Catherine Helen \"Carrie\"   \n",
            "889          890         1                              Behr, Mr. Karl Howell   \n",
            "890          891         0                                Dooley, Mr. Patrick   \n",
            "\n",
            "      Age            Ticket     Fare Cabin  Pclass_1  Pclass_2  Pclass_3  ...  \\\n",
            "0    22.0         A/5 21171   7.2500   NaN     False     False      True  ...   \n",
            "1    38.0          PC 17599  71.2833   C85      True     False     False  ...   \n",
            "2    26.0  STON/O2. 3101282   7.9250   NaN     False     False      True  ...   \n",
            "3    35.0            113803  53.1000  C123      True     False     False  ...   \n",
            "4    35.0            373450   8.0500   NaN     False     False      True  ...   \n",
            "..    ...               ...      ...   ...       ...       ...       ...  ...   \n",
            "886  27.0            211536  13.0000   NaN     False      True     False  ...   \n",
            "887  19.0            112053  30.0000   B42      True     False     False  ...   \n",
            "888   NaN        W./C. 6607  23.4500   NaN     False     False      True  ...   \n",
            "889  26.0            111369  30.0000  C148      True     False     False  ...   \n",
            "890  32.0            370376   7.7500   NaN     False     False      True  ...   \n",
            "\n",
            "     Parch_0  Parch_1  Parch_2  Parch_3  Parch_4  Parch_5  Parch_6  \\\n",
            "0       True    False    False    False    False    False    False   \n",
            "1       True    False    False    False    False    False    False   \n",
            "2       True    False    False    False    False    False    False   \n",
            "3       True    False    False    False    False    False    False   \n",
            "4       True    False    False    False    False    False    False   \n",
            "..       ...      ...      ...      ...      ...      ...      ...   \n",
            "886     True    False    False    False    False    False    False   \n",
            "887     True    False    False    False    False    False    False   \n",
            "888    False    False     True    False    False    False    False   \n",
            "889     True    False    False    False    False    False    False   \n",
            "890     True    False    False    False    False    False    False   \n",
            "\n",
            "     Embarked_C  Embarked_Q  Embarked_S  \n",
            "0         False       False        True  \n",
            "1          True       False       False  \n",
            "2         False       False        True  \n",
            "3         False       False        True  \n",
            "4         False       False        True  \n",
            "..          ...         ...         ...  \n",
            "886       False       False        True  \n",
            "887       False       False        True  \n",
            "888       False       False        True  \n",
            "889        True       False       False  \n",
            "890       False        True       False  \n",
            "\n",
            "[891 rows x 29 columns]>\n"
          ]
        }
      ]
    },
    {
      "cell_type": "code",
      "source": [
        "X = df_encoded[['Fare', 'Pclass_1', 'Pclass_2', 'Pclass_3', 'Sex_female', 'Sex_male', 'SibSp_0', 'SibSp_1', 'SibSp_2', 'SibSp_3', 'SibSp_4','SibSp_5','SibSp_8', 'Parch_0', 'Parch_1', 'Parch_2', 'Parch_3', 'Parch_4', 'Parch_5', 'Parch_6', 'Embarked_C', 'Embarked_Q', 'Embarked_S']]"
      ],
      "metadata": {
        "id": "hMvaExn2JJc1"
      },
      "execution_count": 8,
      "outputs": []
    },
    {
      "cell_type": "code",
      "source": [
        "y = df_encoded['Survived']"
      ],
      "metadata": {
        "id": "nDSX_GqtJcGi"
      },
      "execution_count": 9,
      "outputs": []
    },
    {
      "cell_type": "code",
      "source": [
        "X_train, X_test, y_train, y_test = train_test_split(X, y, test_size=0.2, random_state=42)"
      ],
      "metadata": {
        "id": "x7Mec3jDJe3Q"
      },
      "execution_count": 10,
      "outputs": []
    },
    {
      "cell_type": "code",
      "source": [
        "dtrain = xgb.DMatrix(X_train, label=y_train)\n",
        "dtest = xgb.DMatrix(X_test, label=y_test)"
      ],
      "metadata": {
        "id": "ut6k2jSQJk8O"
      },
      "execution_count": 11,
      "outputs": []
    },
    {
      "cell_type": "code",
      "source": [
        "params = {\n",
        "    'objective' : 'binary:logistic',\n",
        "    'max_depth' : 4,\n",
        "    'eta' : 0.1,\n",
        "    'eval_metric' : 'logloss'\n",
        "}"
      ],
      "metadata": {
        "id": "34R17-PsJndS"
      },
      "execution_count": 12,
      "outputs": []
    },
    {
      "cell_type": "code",
      "source": [
        "num_boost_round = 100\n",
        "bst = xgb.train(params, dtrain, num_boost_round)"
      ],
      "metadata": {
        "id": "179MnKSRJqHD"
      },
      "execution_count": 13,
      "outputs": []
    },
    {
      "cell_type": "code",
      "source": [
        "y_pred_prob = bst.predict(dtest)\n",
        "y_pred = [1 if prob>0.5 else 0 for prob in y_pred_prob]"
      ],
      "metadata": {
        "id": "6qpByaoRJscD"
      },
      "execution_count": 14,
      "outputs": []
    },
    {
      "cell_type": "code",
      "source": [
        "print(classification_report(y_test, y_pred))"
      ],
      "metadata": {
        "colab": {
          "base_uri": "https://localhost:8080/"
        },
        "id": "y3vDWqbcJzq1",
        "outputId": "02b8fdf2-0293-47dd-a8ca-c4588000d361"
      },
      "execution_count": 15,
      "outputs": [
        {
          "output_type": "stream",
          "name": "stdout",
          "text": [
            "              precision    recall  f1-score   support\n",
            "\n",
            "           0       0.81      0.84      0.83       105\n",
            "           1       0.76      0.73      0.74        74\n",
            "\n",
            "    accuracy                           0.79       179\n",
            "   macro avg       0.79      0.78      0.79       179\n",
            "weighted avg       0.79      0.79      0.79       179\n",
            "\n"
          ]
        }
      ]
    },
    {
      "cell_type": "code",
      "source": [
        "#applying the xgboost model on train.csv file from Kaggle"
      ],
      "metadata": {
        "id": "iWNU1pMDKVJ8"
      },
      "execution_count": 16,
      "outputs": []
    },
    {
      "cell_type": "code",
      "source": [
        "df_test = pd.read_csv('test.csv')"
      ],
      "metadata": {
        "id": "WPZyVOJIKizE"
      },
      "execution_count": 17,
      "outputs": []
    },
    {
      "cell_type": "code",
      "source": [
        "df_test['Survived'] = 0"
      ],
      "metadata": {
        "id": "WspuGmbLKk8g"
      },
      "execution_count": 18,
      "outputs": []
    },
    {
      "cell_type": "code",
      "source": [
        "print(df_test.head)"
      ],
      "metadata": {
        "colab": {
          "base_uri": "https://localhost:8080/"
        },
        "id": "-T6ePDVtKnCH",
        "outputId": "6539a622-df79-4faf-aa98-acc638b03f05"
      },
      "execution_count": 19,
      "outputs": [
        {
          "output_type": "stream",
          "name": "stdout",
          "text": [
            "<bound method NDFrame.head of      PassengerId  Pclass                                          Name  \\\n",
            "0            892       3                              Kelly, Mr. James   \n",
            "1            893       3              Wilkes, Mrs. James (Ellen Needs)   \n",
            "2            894       2                     Myles, Mr. Thomas Francis   \n",
            "3            895       3                              Wirz, Mr. Albert   \n",
            "4            896       3  Hirvonen, Mrs. Alexander (Helga E Lindqvist)   \n",
            "..           ...     ...                                           ...   \n",
            "413         1305       3                            Spector, Mr. Woolf   \n",
            "414         1306       1                  Oliva y Ocana, Dona. Fermina   \n",
            "415         1307       3                  Saether, Mr. Simon Sivertsen   \n",
            "416         1308       3                           Ware, Mr. Frederick   \n",
            "417         1309       3                      Peter, Master. Michael J   \n",
            "\n",
            "        Sex   Age  SibSp  Parch              Ticket      Fare Cabin Embarked  \\\n",
            "0      male  34.5      0      0              330911    7.8292   NaN        Q   \n",
            "1    female  47.0      1      0              363272    7.0000   NaN        S   \n",
            "2      male  62.0      0      0              240276    9.6875   NaN        Q   \n",
            "3      male  27.0      0      0              315154    8.6625   NaN        S   \n",
            "4    female  22.0      1      1             3101298   12.2875   NaN        S   \n",
            "..      ...   ...    ...    ...                 ...       ...   ...      ...   \n",
            "413    male   NaN      0      0           A.5. 3236    8.0500   NaN        S   \n",
            "414  female  39.0      0      0            PC 17758  108.9000  C105        C   \n",
            "415    male  38.5      0      0  SOTON/O.Q. 3101262    7.2500   NaN        S   \n",
            "416    male   NaN      0      0              359309    8.0500   NaN        S   \n",
            "417    male   NaN      1      1                2668   22.3583   NaN        C   \n",
            "\n",
            "     Survived  \n",
            "0           0  \n",
            "1           0  \n",
            "2           0  \n",
            "3           0  \n",
            "4           0  \n",
            "..        ...  \n",
            "413         0  \n",
            "414         0  \n",
            "415         0  \n",
            "416         0  \n",
            "417         0  \n",
            "\n",
            "[418 rows x 12 columns]>\n"
          ]
        }
      ]
    },
    {
      "cell_type": "code",
      "source": [
        "#encoding the test dataset"
      ],
      "metadata": {
        "id": "gtVAbY_7KpuF"
      },
      "execution_count": 20,
      "outputs": []
    },
    {
      "cell_type": "code",
      "source": [
        "df_test_encoded = pd.get_dummies(df_test, columns=['Pclass','Sex', 'SibSp', 'Parch', 'Embarked'], drop_first=False)"
      ],
      "metadata": {
        "id": "NyTjzelMKt-H"
      },
      "execution_count": 21,
      "outputs": []
    },
    {
      "cell_type": "code",
      "source": [
        "print(df_test_encoded.head)"
      ],
      "metadata": {
        "colab": {
          "base_uri": "https://localhost:8080/"
        },
        "id": "DBP1ge1nKxxJ",
        "outputId": "ce76c1d9-3ebd-4eb6-9790-2f795eeb3112"
      },
      "execution_count": 22,
      "outputs": [
        {
          "output_type": "stream",
          "name": "stdout",
          "text": [
            "<bound method NDFrame.head of      PassengerId                                          Name   Age  \\\n",
            "0            892                              Kelly, Mr. James  34.5   \n",
            "1            893              Wilkes, Mrs. James (Ellen Needs)  47.0   \n",
            "2            894                     Myles, Mr. Thomas Francis  62.0   \n",
            "3            895                              Wirz, Mr. Albert  27.0   \n",
            "4            896  Hirvonen, Mrs. Alexander (Helga E Lindqvist)  22.0   \n",
            "..           ...                                           ...   ...   \n",
            "413         1305                            Spector, Mr. Woolf   NaN   \n",
            "414         1306                  Oliva y Ocana, Dona. Fermina  39.0   \n",
            "415         1307                  Saether, Mr. Simon Sivertsen  38.5   \n",
            "416         1308                           Ware, Mr. Frederick   NaN   \n",
            "417         1309                      Peter, Master. Michael J   NaN   \n",
            "\n",
            "                 Ticket      Fare Cabin  Survived  Pclass_1  Pclass_2  \\\n",
            "0                330911    7.8292   NaN         0     False     False   \n",
            "1                363272    7.0000   NaN         0     False     False   \n",
            "2                240276    9.6875   NaN         0     False      True   \n",
            "3                315154    8.6625   NaN         0     False     False   \n",
            "4               3101298   12.2875   NaN         0     False     False   \n",
            "..                  ...       ...   ...       ...       ...       ...   \n",
            "413           A.5. 3236    8.0500   NaN         0     False     False   \n",
            "414            PC 17758  108.9000  C105         0      True     False   \n",
            "415  SOTON/O.Q. 3101262    7.2500   NaN         0     False     False   \n",
            "416              359309    8.0500   NaN         0     False     False   \n",
            "417                2668   22.3583   NaN         0     False     False   \n",
            "\n",
            "     Pclass_3  ...  Parch_1  Parch_2  Parch_3  Parch_4  Parch_5  Parch_6  \\\n",
            "0        True  ...    False    False    False    False    False    False   \n",
            "1        True  ...    False    False    False    False    False    False   \n",
            "2       False  ...    False    False    False    False    False    False   \n",
            "3        True  ...    False    False    False    False    False    False   \n",
            "4        True  ...     True    False    False    False    False    False   \n",
            "..        ...  ...      ...      ...      ...      ...      ...      ...   \n",
            "413      True  ...    False    False    False    False    False    False   \n",
            "414     False  ...    False    False    False    False    False    False   \n",
            "415      True  ...    False    False    False    False    False    False   \n",
            "416      True  ...    False    False    False    False    False    False   \n",
            "417      True  ...     True    False    False    False    False    False   \n",
            "\n",
            "     Parch_9  Embarked_C  Embarked_Q  Embarked_S  \n",
            "0      False       False        True       False  \n",
            "1      False       False       False        True  \n",
            "2      False       False        True       False  \n",
            "3      False       False       False        True  \n",
            "4      False       False       False        True  \n",
            "..       ...         ...         ...         ...  \n",
            "413    False       False       False        True  \n",
            "414    False        True       False       False  \n",
            "415    False       False       False        True  \n",
            "416    False       False       False        True  \n",
            "417    False        True       False       False  \n",
            "\n",
            "[418 rows x 30 columns]>\n"
          ]
        }
      ]
    },
    {
      "cell_type": "code",
      "source": [
        "#due to the presence of Parch_9 variable, I need to retrain the model 'bst' with this variable"
      ],
      "metadata": {
        "id": "fhnBvETbK04e"
      },
      "execution_count": 23,
      "outputs": []
    },
    {
      "cell_type": "code",
      "source": [
        "df_encoded['Parch_9']=0"
      ],
      "metadata": {
        "id": "GAj-bFNwL4iX"
      },
      "execution_count": 24,
      "outputs": []
    },
    {
      "cell_type": "code",
      "source": [
        "print(df_encoded.head)"
      ],
      "metadata": {
        "colab": {
          "base_uri": "https://localhost:8080/"
        },
        "id": "Val6nSFoMjy9",
        "outputId": "997b3828-0d6f-4f33-c1e8-930bef0d8994"
      },
      "execution_count": 25,
      "outputs": [
        {
          "output_type": "stream",
          "name": "stdout",
          "text": [
            "<bound method NDFrame.head of      PassengerId  Survived                                               Name  \\\n",
            "0              1         0                            Braund, Mr. Owen Harris   \n",
            "1              2         1  Cumings, Mrs. John Bradley (Florence Briggs Th...   \n",
            "2              3         1                             Heikkinen, Miss. Laina   \n",
            "3              4         1       Futrelle, Mrs. Jacques Heath (Lily May Peel)   \n",
            "4              5         0                           Allen, Mr. William Henry   \n",
            "..           ...       ...                                                ...   \n",
            "886          887         0                              Montvila, Rev. Juozas   \n",
            "887          888         1                       Graham, Miss. Margaret Edith   \n",
            "888          889         0           Johnston, Miss. Catherine Helen \"Carrie\"   \n",
            "889          890         1                              Behr, Mr. Karl Howell   \n",
            "890          891         0                                Dooley, Mr. Patrick   \n",
            "\n",
            "      Age            Ticket     Fare Cabin  Pclass_1  Pclass_2  Pclass_3  ...  \\\n",
            "0    22.0         A/5 21171   7.2500   NaN     False     False      True  ...   \n",
            "1    38.0          PC 17599  71.2833   C85      True     False     False  ...   \n",
            "2    26.0  STON/O2. 3101282   7.9250   NaN     False     False      True  ...   \n",
            "3    35.0            113803  53.1000  C123      True     False     False  ...   \n",
            "4    35.0            373450   8.0500   NaN     False     False      True  ...   \n",
            "..    ...               ...      ...   ...       ...       ...       ...  ...   \n",
            "886  27.0            211536  13.0000   NaN     False      True     False  ...   \n",
            "887  19.0            112053  30.0000   B42      True     False     False  ...   \n",
            "888   NaN        W./C. 6607  23.4500   NaN     False     False      True  ...   \n",
            "889  26.0            111369  30.0000  C148      True     False     False  ...   \n",
            "890  32.0            370376   7.7500   NaN     False     False      True  ...   \n",
            "\n",
            "     Parch_1  Parch_2  Parch_3  Parch_4  Parch_5  Parch_6  Embarked_C  \\\n",
            "0      False    False    False    False    False    False       False   \n",
            "1      False    False    False    False    False    False        True   \n",
            "2      False    False    False    False    False    False       False   \n",
            "3      False    False    False    False    False    False       False   \n",
            "4      False    False    False    False    False    False       False   \n",
            "..       ...      ...      ...      ...      ...      ...         ...   \n",
            "886    False    False    False    False    False    False       False   \n",
            "887    False    False    False    False    False    False       False   \n",
            "888    False     True    False    False    False    False       False   \n",
            "889    False    False    False    False    False    False        True   \n",
            "890    False    False    False    False    False    False       False   \n",
            "\n",
            "     Embarked_Q  Embarked_S  Parch_9  \n",
            "0         False        True        0  \n",
            "1         False       False        0  \n",
            "2         False        True        0  \n",
            "3         False        True        0  \n",
            "4         False        True        0  \n",
            "..          ...         ...      ...  \n",
            "886       False        True        0  \n",
            "887       False        True        0  \n",
            "888       False        True        0  \n",
            "889       False       False        0  \n",
            "890        True       False        0  \n",
            "\n",
            "[891 rows x 30 columns]>\n"
          ]
        }
      ]
    },
    {
      "cell_type": "code",
      "source": [
        "X = df_encoded[['Fare', 'Pclass_1', 'Pclass_2', 'Pclass_3', 'Sex_female', 'Sex_male', 'SibSp_0', 'SibSp_1', 'SibSp_2', 'SibSp_3', 'SibSp_4','SibSp_5','SibSp_8', 'Parch_0', 'Parch_1', 'Parch_2', 'Parch_3', 'Parch_4', 'Parch_5', 'Parch_6', 'Parch_9', 'Embarked_C', 'Embarked_Q', 'Embarked_S']]"
      ],
      "metadata": {
        "id": "_2cIuTDVMx2f"
      },
      "execution_count": 26,
      "outputs": []
    },
    {
      "cell_type": "code",
      "source": [
        "y = df_encoded['Survived']"
      ],
      "metadata": {
        "id": "JZuh4fKsNHRH"
      },
      "execution_count": 27,
      "outputs": []
    },
    {
      "cell_type": "code",
      "source": [
        "X_train, X_test, y_train, y_test = train_test_split(X, y, test_size=0.2, random_state=42)"
      ],
      "metadata": {
        "id": "FrlWQj93NKGK"
      },
      "execution_count": 28,
      "outputs": []
    },
    {
      "cell_type": "code",
      "source": [
        "dtrain = xgb.DMatrix(X_train, label=y_train)\n",
        "dtest = xgb.DMatrix(X_test, label=y_test)"
      ],
      "metadata": {
        "id": "DxHmZluCNNfz"
      },
      "execution_count": 29,
      "outputs": []
    },
    {
      "cell_type": "code",
      "source": [
        "params = {\n",
        "    'objective' : 'binary:logistic',\n",
        "    'max_depth' : 4,\n",
        "    'eta' : 0.1,\n",
        "    'eval_metric' : 'logloss'\n",
        "}"
      ],
      "metadata": {
        "id": "oIE52KFCNRuk"
      },
      "execution_count": 30,
      "outputs": []
    },
    {
      "cell_type": "code",
      "source": [
        "num_boost_round = 100\n",
        "bst = xgb.train(params, dtrain, num_boost_round)"
      ],
      "metadata": {
        "id": "cspg2DshNUy2"
      },
      "execution_count": 31,
      "outputs": []
    },
    {
      "cell_type": "code",
      "source": [
        "#applying this retrained model on the test dataset on kaggle"
      ],
      "metadata": {
        "id": "gqA3IEt5OZp2"
      },
      "execution_count": null,
      "outputs": []
    },
    {
      "cell_type": "code",
      "source": [
        "X = df_test_encoded[['Fare', 'Pclass_1', 'Pclass_2', 'Pclass_3', 'Sex_female', 'Sex_male', 'SibSp_0', 'SibSp_1', 'SibSp_2', 'SibSp_3', 'SibSp_4','SibSp_5','SibSp_8', 'Parch_0', 'Parch_1', 'Parch_2', 'Parch_3', 'Parch_4', 'Parch_5', 'Parch_6', 'Parch_9', 'Embarked_C', 'Embarked_Q', 'Embarked_S']]"
      ],
      "metadata": {
        "id": "oNGwr-9EOLVF"
      },
      "execution_count": 32,
      "outputs": []
    },
    {
      "cell_type": "code",
      "source": [
        "X_test = X\n",
        "y_test = df_test_encoded['Survived']"
      ],
      "metadata": {
        "id": "aZfcgfyyOVy3"
      },
      "execution_count": 33,
      "outputs": []
    },
    {
      "cell_type": "code",
      "source": [
        "dtest = xgb.DMatrix(X_test, label=y_test)"
      ],
      "metadata": {
        "id": "IfddL113nVsy"
      },
      "execution_count": 34,
      "outputs": []
    },
    {
      "cell_type": "code",
      "source": [
        "y_pred_prob = bst.predict(dtest)\n",
        "y_pred = [1 if prob>0.5 else 0 for prob in y_pred_prob]"
      ],
      "metadata": {
        "id": "7SgeDupFntTu"
      },
      "execution_count": 35,
      "outputs": []
    },
    {
      "cell_type": "code",
      "source": [
        "df_col = pd.DataFrame(y_pred)"
      ],
      "metadata": {
        "id": "uiKD1wXun-l7"
      },
      "execution_count": 36,
      "outputs": []
    },
    {
      "cell_type": "code",
      "source": [
        "df_col.to_csv('submission.csv')"
      ],
      "metadata": {
        "id": "6vSjCswcoeh4"
      },
      "execution_count": 37,
      "outputs": []
    },
    {
      "cell_type": "code",
      "source": [],
      "metadata": {
        "id": "ZVJlXCProkon"
      },
      "execution_count": null,
      "outputs": []
    }
  ]
}